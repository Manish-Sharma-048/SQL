{
 "cells": [
  {
   "cell_type": "code",
   "execution_count": null,
   "metadata": {},
   "outputs": [],
   "source": [
    "pip install pymysql"
   ]
  },
  {
   "cell_type": "code",
   "execution_count": null,
   "metadata": {},
   "outputs": [],
   "source": [
    "import pymysql as sql"
   ]
  },
  {
   "cell_type": "markdown",
   "metadata": {},
   "source": [
    "1. Write a Python program to connect a database and create a MySQL table within the database."
   ]
  },
  {
   "cell_type": "code",
   "execution_count": null,
   "metadata": {},
   "outputs": [],
   "source": [
    "conn = sql.connect(host='localhost',user='root',password='root',port=3306,database='pyclass')\n",
    "cur = conn.cursor()\n",
    "cur.execute('create table MySQL(name varchar(10),marks int)')\n",
    "print('Table created')\n",
    "conn.commit()\n",
    "conn.close()"
   ]
  },
  {
   "cell_type": "markdown",
   "metadata": {},
   "source": [
    "2. Write a Python program to list the tables of given MySQL database file."
   ]
  },
  {
   "cell_type": "code",
   "execution_count": null,
   "metadata": {},
   "outputs": [],
   "source": [
    "li = []\n",
    "conn = sql.connect(host='localhost',user='root',password='root',port=3306,database='mysql')\n",
    "cur = conn.cursor()\n",
    "cur.execute('show tables')\n",
    "result = cur.fetchall()\n",
    "for i in result:\n",
    "    li.append(i)\n",
    "print(li)\n",
    "conn.commit()\n",
    "conn.close()"
   ]
  },
  {
   "cell_type": "markdown",
   "metadata": {},
   "source": [
    "3. Write a Python program to create a table and insert some records in that table. Finally selects all rows from the table and display the records."
   ]
  },
  {
   "cell_type": "code",
   "execution_count": null,
   "metadata": {},
   "outputs": [],
   "source": [
    "conn = sql.connect(host='localhost',user='root',password='root',port=3306,database='mysql')\n",
    "cur = conn.cursor()\n",
    "cur.execute('create table test(name varchar(15), marks int)')\n",
    "cur.execute(\"insert into test values('Manish',300),('Mihir',275),('Shivam',250),('Vikas',225),('Vivek',200)\")\n",
    "cur.execute(\"select * from test\")\n",
    "result = cur.fetchall()\n",
    "for i in result:\n",
    "    print(i)\n",
    "conn.commit()\n",
    "conn.close()"
   ]
  },
  {
   "cell_type": "markdown",
   "metadata": {},
   "source": [
    "4. Write a Python program to insert a list of records into a given MySQL table."
   ]
  },
  {
   "cell_type": "code",
   "execution_count": null,
   "metadata": {},
   "outputs": [],
   "source": [
    "conn = sql.connect(host='localhost',user='root',password='root',port=3306,database='pyclass')\n",
    "cur = conn.cursor()\n",
    "cur.execute(\"insert into MySQL values('Shubham',175)\")\n",
    "print('Values inserted')\n",
    "conn.commit()\n",
    "conn.close()"
   ]
  },
  {
   "cell_type": "markdown",
   "metadata": {},
   "source": [
    "5. Write a Python program to insert values to a table from user input."
   ]
  },
  {
   "cell_type": "code",
   "execution_count": null,
   "metadata": {},
   "outputs": [],
   "source": [
    "conn = sql.connect(host='localhost',user='root',password='root',port=3306,database='pyclass')\n",
    "cur = conn.cursor()\n",
    "n = input('Enter name: ')\n",
    "m = int(input('Enter marks: '))\n",
    "cur.execute('insert into MySQL values(%s,%s)',(n,m))\n",
    "print('Values inserted')\n",
    "conn.commit()\n",
    "conn.close()"
   ]
  },
  {
   "cell_type": "markdown",
   "metadata": {},
   "source": [
    "6. Write a Python program to count the number of rows of a given MySQL table."
   ]
  },
  {
   "cell_type": "code",
   "execution_count": null,
   "metadata": {},
   "outputs": [],
   "source": [
    "conn = sql.connect(host='localhost',user='root',password='root',port=3306,database='pyclass')\n",
    "cur = conn.cursor()\n",
    "rows = cur.execute(\"select * from mysql\")\n",
    "print('Total number of rows: ',rows)\n",
    "conn.commit()\n",
    "conn.close()"
   ]
  },
  {
   "cell_type": "markdown",
   "metadata": {},
   "source": [
    "7. Write a Python program to update a specific column value of a given table and select all rows before and after updating the said table."
   ]
  },
  {
   "cell_type": "code",
   "execution_count": null,
   "metadata": {},
   "outputs": [],
   "source": [
    "conn = sql.connect(host='localhost',user='root',password='root',port=3306,database='pyclass')\n",
    "cur = conn.cursor()\n",
    "cur.execute(\"select * from mysql\")\n",
    "result = cur.fetchall()\n",
    "print(\"Original table\")\n",
    "for i in result:\n",
    "    print(i)\n",
    "print('Updated table')\n",
    "cur.execute(\"update mysql set marks = 200 where name = 'Shubham'\")\n",
    "cur.execute('select * from mysql')\n",
    "result = cur.fetchall()\n",
    "for i in result:\n",
    "    print(i)\n",
    "conn.commit()\n",
    "conn.close()"
   ]
  },
  {
   "cell_type": "markdown",
   "metadata": {},
   "source": [
    "8. Write a Python program to update all the values of a specific column of a given MySQL table."
   ]
  },
  {
   "cell_type": "code",
   "execution_count": null,
   "metadata": {},
   "outputs": [],
   "source": [
    "conn = sql.connect(host='localhost',user='root',password='root',port=3306,database='pyclass')\n",
    "cur = conn.cursor()\n",
    "cur.execute(\"select * from mysql\")\n",
    "result = cur.fetchall()\n",
    "print(\"Original table\")\n",
    "for i in result:\n",
    "    print(i)\n",
    "print('Updated table')\n",
    "cur.execute(\"update mysql set marks = marks+200\")\n",
    "cur.execute('select * from mysql')\n",
    "result = cur.fetchall()\n",
    "for i in result:\n",
    "    print(i)\n",
    "conn.commit()\n",
    "conn.close()"
   ]
  },
  {
   "cell_type": "markdown",
   "metadata": {},
   "source": [
    "9. Write a Python program to delete a specific row from a given MySQL table."
   ]
  },
  {
   "cell_type": "code",
   "execution_count": null,
   "metadata": {},
   "outputs": [],
   "source": [
    "conn = sql.connect(host='localhost',user='root',password='root',port=3306,database='pyclass')\n",
    "cur = conn.cursor()\n",
    "cur.execute(\"delete from mysql where name = 'shobhit'\")\n",
    "print('row deleted')\n",
    "cur.execute('select * from mysql')\n",
    "result = cur.fetchall()\n",
    "for i in result:\n",
    "    print(i)\n",
    "conn.commit()\n",
    "conn.close()"
   ]
  },
  {
   "cell_type": "markdown",
   "metadata": {},
   "source": [
    "10. Write a Python program to alter a given MySQL table."
   ]
  },
  {
   "cell_type": "code",
   "execution_count": null,
   "metadata": {},
   "outputs": [],
   "source": [
    "conn = sql.connect(host='localhost',user='root',password='root',port=3306,database='pyclass')\n",
    "cur = conn.cursor()\n",
    "cur.execute('alter table mysql drop marks')\n",
    "cur.execute('select * from mysql')\n",
    "result = cur.fetchall()\n",
    "for i in result:\n",
    "    print(i)\n",
    "conn.commit()\n",
    "conn.close()"
   ]
  },
  {
   "cell_type": "code",
   "execution_count": null,
   "metadata": {},
   "outputs": [],
   "source": []
  }
 ],
 "metadata": {
  "kernelspec": {
   "display_name": "Python 3",
   "language": "python",
   "name": "python3"
  },
  "language_info": {
   "codemirror_mode": {
    "name": "ipython",
    "version": 3
   },
   "file_extension": ".py",
   "mimetype": "text/x-python",
   "name": "python",
   "nbconvert_exporter": "python",
   "pygments_lexer": "ipython3",
   "version": "3.8.5"
  }
 },
 "nbformat": 4,
 "nbformat_minor": 4
}
